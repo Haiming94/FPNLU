{
 "cells": [
  {
   "cell_type": "code",
   "execution_count": 3,
   "metadata": {},
   "outputs": [
    {
     "data": {
      "text/plain": [
       "tensor([[[ 0.9163, -1.0319,  1.1541],\n",
       "         [-0.8929, -0.7601, -0.5124],\n",
       "         [ 0.8299,  0.9084,  1.1240],\n",
       "         [-0.0319,  1.6515,  0.2132],\n",
       "         [-1.5268, -0.6304,  0.2863]],\n",
       "\n",
       "        [[ 1.3651,  0.7780,  0.1746],\n",
       "         [ 0.4370,  0.1957,  0.3862],\n",
       "         [ 1.6441, -0.3647, -0.5030],\n",
       "         [ 1.0296,  0.7601, -0.1926],\n",
       "         [ 0.4760,  0.9171,  1.2085]],\n",
       "\n",
       "        [[-0.9355, -0.1565,  0.0814],\n",
       "         [ 0.0493,  0.3285, -0.7979],\n",
       "         [-0.7939,  0.3020,  1.9040],\n",
       "         [ 1.0765, -0.5612,  0.9802],\n",
       "         [ 0.6643,  1.2297,  0.9311]],\n",
       "\n",
       "        [[ 0.9803, -0.0100,  0.4790],\n",
       "         [ 0.5977, -0.0617, -1.5921],\n",
       "         [ 0.3832, -0.5515, -0.1216],\n",
       "         [-0.4067,  1.0117, -0.3642],\n",
       "         [ 0.1635, -0.1003,  0.0280]],\n",
       "\n",
       "        [[-0.3550,  0.5742, -0.2712],\n",
       "         [-0.8868,  0.6334, -0.1765],\n",
       "         [-1.3139,  2.0587, -0.9394],\n",
       "         [ 0.0979,  0.2138, -0.6802],\n",
       "         [ 0.1573, -0.6194,  1.2933]]])"
      ]
     },
     "execution_count": 3,
     "metadata": {},
     "output_type": "execute_result"
    }
   ],
   "source": [
    "import torch\n",
    "\n",
    "\n",
    "a = torch.randn(5,15)\n",
    "a\n",
    "a.view(-1, 5, 3)"
   ]
  },
  {
   "cell_type": "code",
   "execution_count": 6,
   "metadata": {},
   "outputs": [
    {
     "data": {
      "text/plain": [
       "tensor([[[-2.8741e-08, -5.7919e-08, -1.7975e-08],\n",
       "         [-1.4534e-09, -3.1904e-09,  1.5473e-08],\n",
       "         [ 4.9062e-08,  2.3603e-08, -2.8895e-09],\n",
       "         [-1.3438e-08,  7.0887e-11,  1.7731e-09],\n",
       "         [-4.6302e-09,  3.1365e-09, -2.1455e-08]],\n",
       "\n",
       "        [[-3.2152e-09,  1.7824e-09,  4.5334e-08],\n",
       "         [ 3.0826e-10, -1.7691e-09,  3.0028e-09],\n",
       "         [-3.8146e-10,  4.3011e-09, -3.9038e-09],\n",
       "         [-6.0105e-09, -2.1000e-09,  2.2124e-08],\n",
       "         [ 3.5287e-08, -1.4479e-08, -1.4221e-08]],\n",
       "\n",
       "        [[ 4.4438e-10,  2.7452e-09,  4.1075e-11],\n",
       "         [-7.1141e-09, -2.4409e-10,  1.2820e-10],\n",
       "         [-1.7281e-09,  1.8695e-09, -2.8259e-10],\n",
       "         [-1.6604e-08,  4.6185e-08,  7.2750e-09],\n",
       "         [-3.5811e-08,  1.7603e-08,  1.9976e-08]],\n",
       "\n",
       "        [[-2.0785e-10, -1.3619e-08, -2.3345e-10],\n",
       "         [ 2.3185e-09,  2.2792e-08, -4.9987e-10],\n",
       "         [ 1.7938e-09,  4.2202e-10,  2.7035e-09],\n",
       "         [ 7.9555e-09,  2.1907e-09,  6.3486e-09],\n",
       "         [ 3.8206e-11,  9.1859e-11, -7.1301e-10]],\n",
       "\n",
       "        [[ 5.9185e-10, -1.0213e-09, -2.1596e-09],\n",
       "         [ 1.4364e-09, -3.6104e-09, -2.2544e-08],\n",
       "         [ 5.6732e-08, -9.7754e-09, -1.0695e-07],\n",
       "         [-7.0752e-09, -1.1238e-09, -1.4358e-10],\n",
       "         [-2.0785e-08,  6.6329e-09,  4.5143e-10]]])"
      ]
     },
     "execution_count": 6,
     "metadata": {},
     "output_type": "execute_result"
    }
   ],
   "source": [
    "torch.cross(a.view(-1, 5, 3),a.view(-1, 5, 3), dim=2)"
   ]
  },
  {
   "cell_type": "code",
   "execution_count": 13,
   "metadata": {},
   "outputs": [
    {
     "data": {
      "text/plain": [
       "torch.Size([10, 3, 4])"
      ]
     },
     "execution_count": 13,
     "metadata": {},
     "output_type": "execute_result"
    }
   ],
   "source": [
    "x = torch.rand(10, 3)\n",
    "y = torch.rand(10, 4)\n",
    "\n",
    "res = torch.bmm(x.unsqueeze(2), y.unsqueeze(1))\n",
    "res.size()"
   ]
  },
  {
   "cell_type": "code",
   "execution_count": 20,
   "metadata": {},
   "outputs": [
    {
     "data": {
      "text/plain": [
       "tensor([5.0000, 4.1231, 3.6056, 3.6056, 4.1231])"
      ]
     },
     "execution_count": 20,
     "metadata": {},
     "output_type": "execute_result"
    }
   ],
   "source": [
    "a = torch.arange(10, dtype= torch.float) - 5\n",
    "b = a.reshape((2, 5))\n",
    "torch.norm(a)\n",
    "\n",
    "torch.norm(b, dim=0)"
   ]
  },
  {
   "cell_type": "code",
   "execution_count": 22,
   "metadata": {},
   "outputs": [
    {
     "name": "stdout",
     "output_type": "stream",
     "text": [
      "tensor([[-1.5286,  0.6844,  1.3201],\n",
      "        [-0.9700,  0.8762, -1.6023]])\n",
      "tensor([[0.0365, 0.3336, 0.6299],\n",
      "        [0.1271, 0.8053, 0.0675]])\n"
     ]
    }
   ],
   "source": [
    "import torch.nn as nn\n",
    "m = nn.Softmax(dim=1)\n",
    "input = torch.randn(2, 3)\n",
    "output = m(input)\n",
    "print(input)\n",
    "print(output)"
   ]
  },
  {
   "cell_type": "code",
   "execution_count": 25,
   "metadata": {},
   "outputs": [
    {
     "name": "stdout",
     "output_type": "stream",
     "text": [
      "tensor([[[[ 0.,  1.,  2.],\n",
      "          [ 3.,  4.,  5.]],\n",
      "\n",
      "         [[ 6.,  7.,  8.],\n",
      "          [ 9., 10., 11.]]]]) tensor([[0., 1.]])\n"
     ]
    }
   ],
   "source": [
    "a = torch.arange(12, dtype= torch.float)\n",
    "a = a.reshape((1, 2, 2, 3))\n",
    "\n",
    "b = torch.arange(2, dtype= torch.float)\n",
    "b = b.reshape((1, 2))\n",
    "\n",
    "print(a, b)\n",
    "\n",
    "b = b.unsqueeze(2).unsqueeze(3)\n",
    "b = b.expand(1, 2, 2, 3)"
   ]
  },
  {
   "cell_type": "code",
   "execution_count": 26,
   "metadata": {},
   "outputs": [
    {
     "name": "stdout",
     "output_type": "stream",
     "text": [
      "tensor([[[[0., 0., 0.],\n",
      "          [0., 0., 0.]],\n",
      "\n",
      "         [[1., 1., 1.],\n",
      "          [1., 1., 1.]]]])\n"
     ]
    }
   ],
   "source": [
    "print(b)"
   ]
  },
  {
   "cell_type": "code",
   "execution_count": 27,
   "metadata": {},
   "outputs": [
    {
     "data": {
      "text/plain": [
       "tensor([[[[ 0.,  0.,  0.],\n",
       "          [ 0.,  0.,  0.]],\n",
       "\n",
       "         [[ 6.,  7.,  8.],\n",
       "          [ 9., 10., 11.]]]])"
      ]
     },
     "execution_count": 27,
     "metadata": {},
     "output_type": "execute_result"
    }
   ],
   "source": [
    "torch.mul(a, b)"
   ]
  },
  {
   "cell_type": "code",
   "execution_count": 84,
   "metadata": {},
   "outputs": [
    {
     "name": "stdout",
     "output_type": "stream",
     "text": [
      "tensor([[[0.3364, 0.1947, 0.2533],\n",
      "         [0.2657, 0.2613, 0.8381],\n",
      "         [0.1944, 0.9009, 0.9864]],\n",
      "\n",
      "        [[0.2029, 0.5477, 0.7197],\n",
      "         [0.2556, 0.1864, 0.8808],\n",
      "         [0.4702, 0.1975, 0.5250]]])\n",
      "torch.Size([2, 3, 3])\n",
      "torch.Size([2, 3, 3])\n"
     ]
    }
   ],
   "source": [
    "a = torch.arange(18, dtype= torch.float)\n",
    "a = a.reshape((2, 3, 3))\n",
    "a = torch.rand(2,3,3)\n",
    "print(a)\n",
    "b = torch.arange(9, dtype= torch.float)\n",
    "b = b.reshape((3, 3))\n",
    "c = torch.matmul(b, a)\n",
    "print(c.size())\n",
    "d = torch.matmul(c, b.t())\n",
    "print(d.size())"
   ]
  },
  {
   "cell_type": "code",
   "execution_count": 58,
   "metadata": {},
   "outputs": [
    {
     "name": "stdout",
     "output_type": "stream",
     "text": [
      "tensor([[1., 0., 0.],\n",
      "        [0., 1., 0.],\n",
      "        [0., 0., 1.]])\n"
     ]
    }
   ],
   "source": [
    "e = torch.eye(3)\n",
    "print(e)\n",
    "f = torch.mul(d, e)"
   ]
  },
  {
   "cell_type": "code",
   "execution_count": 56,
   "metadata": {},
   "outputs": [
    {
     "name": "stdout",
     "output_type": "stream",
     "text": [
      "torch.Size([2, 3])\n"
     ]
    }
   ],
   "source": [
    "g,_ = f.max(-1)\n",
    "print(g.size())"
   ]
  },
  {
   "cell_type": "code",
   "execution_count": 83,
   "metadata": {},
   "outputs": [
    {
     "name": "stdout",
     "output_type": "stream",
     "text": [
      "a tensor([[0.2303, 0.4264, 0.1187, 0.1040, 0.1206],\n",
      "        [0.3506, 0.4768, 0.1103, 0.0350, 0.0273],\n",
      "        [0.1079, 0.6291, 0.1942, 0.0194, 0.0494]])\n",
      "t tensor([[0.0117, 0.0317, 0.0861, 0.2341, 0.6364],\n",
      "        [0.0117, 0.0317, 0.0861, 0.2341, 0.6364],\n",
      "        [0.0117, 0.0317, 0.0861, 0.2341, 0.6364]])\n",
      "tensor([[-0.0546, -0.1229, -0.2214, -0.3643, -0.3644],\n",
      "        [-0.0560, -0.1245, -0.2207, -0.3481, -0.3050],\n",
      "        [-0.0532, -0.1293, -0.2279, -0.3445, -0.3190]])\n",
      "torch.Size([3])\n",
      "a tensor([[0.2303, 0.4264, 0.1187, 0.1040, 0.1206],\n",
      "        [0.3506, 0.4768, 0.1103, 0.0350, 0.0273],\n",
      "        [0.1079, 0.6291, 0.1942, 0.0194, 0.0494]])\n",
      "t tensor([[0.0117, 0.0317, 0.0861, 0.2341, 0.6364],\n",
      "        [0.0117, 0.0317, 0.0861, 0.2341, 0.6364],\n",
      "        [0.0117, 0.0317, 0.0861, 0.2341, 0.6364]])\n",
      "tensor([[-0.0546, -0.1229, -0.2214, -0.3643, -0.3644],\n",
      "        [-0.0560, -0.1245, -0.2207, -0.3481, -0.3050],\n",
      "        [-0.0532, -0.1293, -0.2279, -0.3445, -0.3190]])\n",
      "torch.Size([3])\n"
     ]
    }
   ],
   "source": [
    "h = torch.arange(10, dtype = torch.float)\n",
    "h = h.reshape((2, 5))\n",
    "\n",
    "# i = torch.arange(15, dtype = torch.float).reshape((3, 5))\n",
    "i = torch.randn(3,5)\n",
    "\n",
    "loss_f = nn.KLDivLoss(size_average=False, reduce=False)# True  \n",
    "softmax = nn.Softmax(dim=1)\n",
    "\n",
    "for j in h:\n",
    "    j = j.unsqueeze(0).expand(3, -1)\n",
    "    a_ = softmax(i)\n",
    "    t_ = softmax(j)\n",
    "    print('a',a_)\n",
    "    print('t',t_)\n",
    "    print(loss_f(a_, t_))\n",
    "    print((0 - torch.mean(loss_f(a_, t_), 1)).size())\n",
    "    "
   ]
  },
  {
   "cell_type": "code",
   "execution_count": null,
   "metadata": {},
   "outputs": [],
   "source": []
  },
  {
   "cell_type": "code",
   "execution_count": null,
   "metadata": {},
   "outputs": [],
   "source": []
  }
 ],
 "metadata": {
  "kernelspec": {
   "display_name": "Python 3",
   "language": "python",
   "name": "python3"
  },
  "language_info": {
   "codemirror_mode": {
    "name": "ipython",
    "version": 3
   },
   "file_extension": ".py",
   "mimetype": "text/x-python",
   "name": "python",
   "nbconvert_exporter": "python",
   "pygments_lexer": "ipython3",
   "version": "3.6.12"
  }
 },
 "nbformat": 4,
 "nbformat_minor": 4
}
